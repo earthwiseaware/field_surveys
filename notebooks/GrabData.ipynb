{
 "cells": [
  {
   "cell_type": "code",
   "execution_count": 14,
   "id": "89725494-35c7-44c2-9fa3-2cdf4ad948ba",
   "metadata": {},
   "outputs": [
    {
     "name": "stdin",
     "output_type": "stream",
     "text": [
      " ············\n"
     ]
    }
   ],
   "source": [
    "import arcgis\n",
    "\n",
    "from getpass import getpass\n",
    "\n",
    "\n",
    "gis = arcgis.gis.GIS('https://earthwiseaware.maps.arcgis.com/', 'mgietzmannsanders', getpass())"
   ]
  },
  {
   "cell_type": "code",
   "execution_count": 16,
   "id": "78ee84b9-91a6-4f59-98d8-c3975b5c6ddb",
   "metadata": {},
   "outputs": [],
   "source": [
    "survey_manager = arcgis.apps.survey123.SurveyManager(gis)"
   ]
  },
  {
   "cell_type": "code",
   "execution_count": 25,
   "id": "92e591ff-67f8-4252-b2f5-69dd0f3080f0",
   "metadata": {},
   "outputs": [
    {
     "name": "stdout",
     "output_type": "stream",
     "text": [
      "EwA Vernal Pool Survey v2 34a55ec1383b49b791bc4a4abc804b78\n",
      "SandboxXLSForm 7d20550034cf48a3b59397f814003532\n",
      "Buggy a41a5a178fc44e12aeb9f5b54ab71e1c\n",
      "Sandbox c31fbaf4fcbc48618069623b729aca1f\n"
     ]
    }
   ],
   "source": [
    "for survey in survey_manager.surveys:\n",
    "    print(survey.properties['title'], survey.properties['id'])"
   ]
  },
  {
   "cell_type": "code",
   "execution_count": 30,
   "id": "c36bce0c-ac06-4609-a539-5d91311b3e5a",
   "metadata": {},
   "outputs": [],
   "source": [
    "buggy = gis.content.get('a41a5a178fc44e12aeb9f5b54ab71e1c')"
   ]
  },
  {
   "cell_type": "code",
   "execution_count": 31,
   "id": "ab7a0a77-99c7-4537-b671-c89db6ca6c15",
   "metadata": {},
   "outputs": [],
   "source": [
    "feature_service = buggy.related_items('Survey2Service','forward')[0]"
   ]
  },
  {
   "cell_type": "code",
   "execution_count": 34,
   "id": "d650489a-0de4-462a-a6a2-fb56016f43ca",
   "metadata": {},
   "outputs": [
    {
     "data": {
      "text/html": [
       "<div class=\"item_container\" style=\"height: auto; overflow: hidden; border: 1px solid #cfcfcf; border-radius: 2px; background: #f6fafa; line-height: 1.21429em; padding: 10px;\">\n",
       "                    <div class=\"item_left\" style=\"width: 210px; float: left;\">\n",
       "                       <a href='https://EarthwiseAware.maps.arcgis.com/home/item.html?id=f7edf508315944a0b7fae854dbc5e51f' target='_blank'>\n",
       "                        <img src='http://static.arcgis.com/images/desktopapp.png' class=\"itemThumbnail\">\n",
       "                       </a>\n",
       "                    </div>\n",
       "\n",
       "                    <div class=\"item_right\"     style=\"float: none; width: auto; overflow: hidden;\">\n",
       "                        <a href='https://EarthwiseAware.maps.arcgis.com/home/item.html?id=f7edf508315944a0b7fae854dbc5e51f' target='_blank'><b>Buggy</b>\n",
       "                        </a>\n",
       "                        <br/><img src='https://EarthwiseAware.maps.arcgis.com/home/js/jsapi/esri/css/images/item_type_icons/layers16.png' style=\"vertical-align:middle;\">GeoJson by mgietzmannsanders\n",
       "                        <br/>Last Modified: July 09, 2022\n",
       "                        <br/>0 comments, 0 views\n",
       "                    </div>\n",
       "                </div>\n",
       "                "
      ],
      "text/plain": [
       "<Item title:\"Buggy\" type:GeoJson owner:mgietzmannsanders>"
      ]
     },
     "execution_count": 34,
     "metadata": {},
     "output_type": "execute_result"
    }
   ],
   "source": [
    "feature_service.export(title=buggy.title, export_format='GeoJson')"
   ]
  },
  {
   "cell_type": "code",
   "execution_count": null,
   "id": "eb0677cb-39ed-41fa-aaff-adb3173feb7f",
   "metadata": {},
   "outputs": [],
   "source": []
  }
 ],
 "metadata": {
  "kernelspec": {
   "display_name": "Python 3 (ipykernel)",
   "language": "python",
   "name": "python3"
  },
  "language_info": {
   "codemirror_mode": {
    "name": "ipython",
    "version": 3
   },
   "file_extension": ".py",
   "mimetype": "text/x-python",
   "name": "python",
   "nbconvert_exporter": "python",
   "pygments_lexer": "ipython3",
   "version": "3.9.7"
  }
 },
 "nbformat": 4,
 "nbformat_minor": 5
}
